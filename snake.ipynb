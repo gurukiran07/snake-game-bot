{
  "nbformat": 4,
  "nbformat_minor": 0,
  "metadata": {
    "colab": {
      "name": "snake.ipynb",
      "provenance": [],
      "collapsed_sections": [],
      "include_colab_link": true
    },
    "kernelspec": {
      "name": "python3",
      "display_name": "Python 3"
    }
  },
  "cells": [
    {
      "cell_type": "markdown",
      "metadata": {
        "id": "view-in-github",
        "colab_type": "text"
      },
      "source": [
        "<a href=\"https://colab.research.google.com/github/khalil192/snake-game-bot/blob/master/snake.ipynb\" target=\"_parent\"><img src=\"https://colab.research.google.com/assets/colab-badge.svg\" alt=\"Open In Colab\"/></a>"
      ]
    },
    {
      "cell_type": "code",
      "metadata": {
        "id": "71_xh38fpeId",
        "colab_type": "code",
        "colab": {}
      },
      "source": [
        ""
      ],
      "execution_count": 0,
      "outputs": []
    },
    {
      "cell_type": "code",
      "metadata": {
        "id": "CsmcuSx0TGQQ",
        "colab_type": "code",
        "colab": {}
      },
      "source": [
        "import numpy as np\n",
        "import csv\n",
        "import math\n",
        "def dist(curr , next):\n",
        "      return math.pow(abs(curr[0] - next[0]),2) + math.pow(abs(curr[1] - next[1]),2)\n",
        "\n",
        "def is_near(curr , next , head) :\n",
        "    dist1 = dist(curr , head)\n",
        "    dist2 = dist(next, head)\n",
        "    return True if dist2 < dist1 else False\n",
        "\n",
        "\n",
        "def check(ls , cell):\n",
        "    return cell in ls\n",
        "\n",
        "MOVES = ['l' , 'r', 'u' , 'd']\n",
        "\n",
        "\n",
        "max_depth_req = 9\n",
        "def calc_depth(snake_queue , depth_yet , direction , grid_len):\n",
        "    #snake queue = head , body , tail\n",
        "    #move head to another pos , remove tail - insert new at begining , pop tail\n",
        "    if(depth_yet == max_depth_req): return 0\n",
        "    head_x = snake_queue[0][0]\n",
        "    head_y = snake_queue[0][1]\n",
        "    nhead_x = head_x\n",
        "    nhead_y = head_y\n",
        "    if(direction =='l'):\n",
        "        nhead_y -=1\n",
        "    if(direction =='r'):\n",
        "        nhead_y +=1\n",
        "    if(direction == 'u'):\n",
        "        nhead_x -=1\n",
        "    if(direction == 'd'):\n",
        "        nhead_x +=1\n",
        "    #check for fail cases , if any return 0\n",
        "    if(nhead_x <0 or nhead_x >= grid_len or nhead_y <0 \n",
        "      or  nhead_y>=grid_len or check(snake_queue , [nhead_x , nhead_y])):\n",
        "            return 0\n",
        "    # print(head_x , head_y , ' dir = ', direction , 'no penalty' , nhead_x , nhead_y)\n",
        "    depth_list = [0 for x in range(4)]\n",
        "    snake_queue.pop(len(snake_queue)-1)\n",
        "    snake_queue.insert(0,[nhead_x , nhead_y])\n",
        "    maxi = 0\n",
        "    for i in range(4):\n",
        "        depth_list[i] = calc_depth(snake_queue[:] , 1+depth_yet , MOVES[i] , grid_len)\n",
        "        maxi = max(maxi , depth_list[i])\n",
        "        if(maxi ==max_depth_req -1) : return maxi\n",
        "    return 1+maxi\n",
        "\n",
        "\n",
        "# snake_q = [[4,5] ,[5,5], [5,4] , [5,3] , [4,3] , [3,3] , [3,4] , [3,5]]\n",
        "\n",
        "# print(calc_depth(snake_q[:] , 0,'l' , 10))\n",
        "# print(calc_depth(snake_q[:] , 0,'r' , 10))\n",
        "# print(calc_depth(snake_q[:] , 0,'u' ,10))\n",
        "# print(calc_depth(snake_q[:] , 0,'d' , 10))\n",
        "\n",
        "near_reward = 750\n",
        "far_penalty = 500\n",
        "depth_reward = 1000\n",
        "\n",
        "\n",
        "def generateAnInstance(grid_width , grid_height):\n",
        "    head_x = np.random.randint(grid_width)\n",
        "    head_y = np.random.randint(grid_height)\n",
        "    # grid_generated = [ [0 for x in range(grid_width) ] for y in range(grid_height)]\n",
        "    len_req = np.random.randint((grid_height+ grid_width))\n",
        "    len_generated = 0\n",
        "    chk = 0\n",
        "    tail_x = head_x\n",
        "    tail_y = head_y\n",
        "    len_actually_generated = 1\n",
        "    snake_queue = [[head_x , head_y]]\n",
        "    while len_generated < len_req :\n",
        "        allowed_moves = []\n",
        "        if (tail_x-1 >=0 and check(snake_queue,[tail_x-1 , tail_y]) == False):\n",
        "            allowed_moves.append('u')\n",
        "        if (tail_x+1 < grid_width and check(snake_queue,[tail_x+1 , tail_y]) == False):\n",
        "            allowed_moves.append('d')\n",
        "        if (tail_y-1 >=0 and check(snake_queue,[tail_x , tail_y-1]) == False):\n",
        "            allowed_moves.append('l')\n",
        "        if (tail_y+1 < grid_height and check(snake_queue,[tail_x , tail_y+1]) == False):\n",
        "            allowed_moves.append('r')\n",
        "        if(len(allowed_moves)==0) : break\n",
        "        move = np.random.choice(allowed_moves)\n",
        "        if(move == 'l') : tail_y-=1\n",
        "        if(move == 'r') : tail_y+=1\n",
        "        if(move == 'u') : tail_x-=1\n",
        "        if(move == 'd') : tail_x+=1\n",
        "        # grid_generated[tail_x][tail_y] =1\n",
        "        snake_queue.append([tail_x , tail_y])\n",
        "        len_generated +=1\n",
        "        len_actually_generated+=1\n",
        "    #now check if any move leads to death .. \n",
        "    label_generated = [0,0,0,0] #l , r,  u, d\n",
        "    # print('head= ', head_x ,' ',head_y)\n",
        "    food_x = np.random.randint(grid_width)\n",
        "    food_y = np.random.randint(grid_height)\n",
        "    while(check(snake_queue , [food_x , food_y])==True):\n",
        "        food_x = np.random.randint(grid_width)\n",
        "        food_y = np.random.randint(grid_height)\n",
        "    midx = grid_width/2\n",
        "    midy = grid_height/2\n",
        "    if(head_x -1 >=0 and check(snake_queue , [head_x-1,head_y])==False): #up\n",
        "        label_generated[2] = 2000\n",
        "        label_generated [2] += (calc_depth(snake_queue[:] , 0,'u',grid_height)*depth_reward)\n",
        "        if(is_near([head_x , head_y] , [head_x-1 , head_y] , [food_x , food_y])):\n",
        "            label_generated[2] += near_reward\n",
        "        else: label_generated[2] -= far_penalty\n",
        "    if(head_x + 1 < grid_width and check(snake_queue,[head_x+1 , head_y]) == False):#down\n",
        "        label_generated[3] =2000\n",
        "        label_generated [3] += (calc_depth(snake_queue[:] , 0,'d',grid_height)*depth_reward)\n",
        "        if(is_near([head_x , head_y] , [head_x+1 , head_y] , [food_x , food_y])):\n",
        "            label_generated[3] += near_reward\n",
        "        else :label_generated[3] -=far_penalty\n",
        "\n",
        "    if(head_y -1 >=0 and check(snake_queue , [head_x , head_y-1]) == False): #Left\n",
        "        label_generated[0] = 2000\n",
        "        label_generated [0] += (calc_depth(snake_queue[:] , 0,'l',grid_height)*depth_reward)\n",
        "        if(is_near([head_x , head_y] , [head_x , head_y-1] , [food_x , food_y])):\n",
        "            label_generated[0] += near_reward\n",
        "        else: label_generated[0] -=far_penalty\n",
        "      \n",
        "    if(head_y + 1 < grid_height and check(snake_queue , [head_x ,head_y+1]) == False):#right\n",
        "        label_generated[1] = 2000\n",
        "        label_generated [1] += (calc_depth(snake_queue[:] , 0,'r',grid_height)*depth_reward)\n",
        "        if(is_near([head_x , head_y] , [head_x, head_y+1] , [food_x , food_y])):\n",
        "            label_generated[1] += near_reward\n",
        "        else :label_generated[1] -=far_penalty\n",
        "    #surrondValues\n",
        "    surrond = [0 for x in range(8)]\n",
        "    #get surronding values now\n",
        "    indx = 0\n",
        "    for x in range(-1,2):\n",
        "        for y in range(-1,2):\n",
        "            if(x ==0 and y ==0): continue\n",
        "            if(head_x+x <0 or head_x+x >= grid_width or head_y+y < 0 or head_y+y >= grid_height or \n",
        "                check(snake_queue , [head_x+x,head_y+y])==True):\n",
        "                surrond[indx] =1     \n",
        "            indx+=1\n",
        "    sum = 0\n",
        "    for i in label_generated:\n",
        "        sum += i\n",
        "    sum = max(sum , 1)\n",
        "    for i in range(4):\n",
        "        label_generated[i]/=sum\n",
        "    x_diff = head_x - tail_x\n",
        "    y_diff = head_y - tail_y\n",
        "\n",
        "\n",
        "    returningList = surrond\n",
        "    returningList += [head_x / (grid_width) , head_y/(grid_height)]\n",
        "    returningList += [ len_actually_generated/(grid_width + grid_height),x_diff/grid_width , y_diff/grid_height]\n",
        "    returningList += [ (head_x- food_x)/grid_height , (head_y -food_y)/grid_width]\n",
        "    returningList += [label_generated[0] , label_generated[1] , label_generated[2],label_generated[3]]\n",
        "    return returningList\n",
        "# with open('train.csv', 'w', newline='') as file:\n",
        "#     writer = csv.writer(file)\n",
        "    # writer.writerow([\"leftB\" ,\"rightB\",\"upB\",\"downB\",\"length\", \"head_x\" , \"head_y\",\"x_diff\" , \"y_diff\",\"label_l\" , \"label_r\" , \"label_u\", \"label_d\"])\n",
        "    \n",
        "def prepare_data(filename , rows):\n",
        "  for i in range(rows):\n",
        "      data = generateAnInstance(10,10)\n",
        "      with open( filename, 'a+', newline='') as file:\n",
        "          writer = csv.writer(file)\n",
        "          writer.writerow(data)"
      ],
      "execution_count": 0,
      "outputs": []
    },
    {
      "cell_type": "code",
      "metadata": {
        "id": "1DW24ZmWA_JK",
        "colab_type": "code",
        "colab": {}
      },
      "source": [
        "prepare_data('train.csv' , 10000)"
      ],
      "execution_count": 0,
      "outputs": []
    },
    {
      "cell_type": "code",
      "metadata": {
        "id": "9Zx81LP6tWe-",
        "colab_type": "code",
        "outputId": "59342965-e9cc-4e07-a665-628070e5668d",
        "colab": {
          "base_uri": "https://localhost:8080/",
          "height": 221
        }
      },
      "source": [
        "import pandas as pd\n",
        "\n",
        "df = pd.read_csv('train.csv')\n",
        "X = df.iloc[:, 0:15]  \n",
        "Y = df.iloc[:,15:19]\n",
        "print(X.head())\n",
        "print(Y.head())"
      ],
      "execution_count": 0,
      "outputs": [
        {
          "output_type": "stream",
          "text": [
            "   1  0  0.1  1.1  1.2  1.3  1.4  1.5  0.7  0.0   0.5  0.0.1  -0.5  -0.2  -0.9\n",
            "0  1  1    1    0    1    1    1    1  0.8  0.8  0.85    0.4   0.2   0.8   0.3\n",
            "1  0  0    0    0    0    1    1    0  0.6  0.8  0.40   -0.2   0.3   0.3   0.1\n",
            "2  0  1    0    0    0    0    0    0  0.8  0.1  0.70    0.6   0.1   0.3   0.0\n",
            "3  1  1    1    1    0    1    0    0  0.2  0.0  0.25    0.2   0.0  -0.2  -0.9\n",
            "4  0  1    1    0    1    1    1    1  0.9  0.9  0.95    0.3   0.7   0.5   0.2\n",
            "      0.0.2     0.0.3       1.0     0.0.4\n",
            "0  1.000000  0.000000  0.000000  0.000000\n",
            "1  0.348214  0.303571  0.348214  0.000000\n",
            "2  0.333333  0.333333  0.000000  0.333333\n",
            "3  0.000000  0.500000  0.000000  0.500000\n",
            "4  1.000000  0.000000  0.000000  0.000000\n"
          ],
          "name": "stdout"
        }
      ]
    },
    {
      "cell_type": "code",
      "metadata": {
        "id": "DwyfDhcHBXya",
        "colab_type": "code",
        "colab": {}
      },
      "source": [
        "model_name = 'first.h5'"
      ],
      "execution_count": 0,
      "outputs": []
    },
    {
      "cell_type": "code",
      "metadata": {
        "id": "knIX7UBCwN8q",
        "colab_type": "code",
        "outputId": "dde443a9-e0a9-481b-cec4-84da81c7d59c",
        "colab": {
          "base_uri": "https://localhost:8080/",
          "height": 1000
        }
      },
      "source": [
        "from numpy import loadtxt\n",
        "from keras.models import Sequential\n",
        "from keras.layers import Dense\n",
        "\n",
        "model = Sequential()\n",
        "model.add(Dense(52, input_dim=15, activation='relu'))\n",
        "model.add(Dense(26, activation='relu'))\n",
        "model.add(Dense(4, activation='sigmoid'))\n",
        "model.compile(loss='categorical_crossentropy', optimizer='adam', metrics=['categorical_accuracy'])\n",
        "model.fit(X, Y, epochs=30, batch_size=10)\n",
        "\n",
        "\n"
      ],
      "execution_count": 0,
      "outputs": [
        {
          "output_type": "stream",
          "text": [
            "Epoch 1/30\n",
            "29999/29999 [==============================] - 4s 133us/step - loss: 0.7369 - categorical_accuracy: 0.6846\n",
            "Epoch 2/30\n",
            "29999/29999 [==============================] - 4s 124us/step - loss: 0.7137 - categorical_accuracy: 0.7222\n",
            "Epoch 3/30\n",
            "29999/29999 [==============================] - 4s 122us/step - loss: 0.7133 - categorical_accuracy: 0.7355\n",
            "Epoch 4/30\n",
            "29999/29999 [==============================] - 4s 124us/step - loss: 0.7131 - categorical_accuracy: 0.7415\n",
            "Epoch 5/30\n",
            "29999/29999 [==============================] - 4s 124us/step - loss: 0.7129 - categorical_accuracy: 0.7368\n",
            "Epoch 6/30\n",
            "29999/29999 [==============================] - 4s 123us/step - loss: 0.7129 - categorical_accuracy: 0.7262\n",
            "Epoch 7/30\n",
            "29999/29999 [==============================] - 3s 116us/step - loss: 0.7127 - categorical_accuracy: 0.7324\n",
            "Epoch 8/30\n",
            "29999/29999 [==============================] - 4s 118us/step - loss: 0.7126 - categorical_accuracy: 0.7249\n",
            "Epoch 9/30\n",
            "29999/29999 [==============================] - 4s 121us/step - loss: 0.7125 - categorical_accuracy: 0.7251\n",
            "Epoch 10/30\n",
            "29999/29999 [==============================] - 4s 118us/step - loss: 0.7125 - categorical_accuracy: 0.7396\n",
            "Epoch 11/30\n",
            "29999/29999 [==============================] - 4s 126us/step - loss: 0.7123 - categorical_accuracy: 0.7483\n",
            "Epoch 12/30\n",
            "29999/29999 [==============================] - 4s 125us/step - loss: 0.7122 - categorical_accuracy: 0.7580\n",
            "Epoch 13/30\n",
            "29999/29999 [==============================] - 4s 121us/step - loss: 0.7122 - categorical_accuracy: 0.7676\n",
            "Epoch 14/30\n",
            "29999/29999 [==============================] - 4s 120us/step - loss: 0.7122 - categorical_accuracy: 0.7688\n",
            "Epoch 15/30\n",
            "29999/29999 [==============================] - 4s 119us/step - loss: 0.7121 - categorical_accuracy: 0.7723\n",
            "Epoch 16/30\n",
            "29999/29999 [==============================] - 3s 114us/step - loss: 0.7121 - categorical_accuracy: 0.7795\n",
            "Epoch 17/30\n",
            "29999/29999 [==============================] - 4s 119us/step - loss: 0.7121 - categorical_accuracy: 0.7800\n",
            "Epoch 18/30\n",
            "29999/29999 [==============================] - 4s 124us/step - loss: 0.7121 - categorical_accuracy: 0.8010\n",
            "Epoch 19/30\n",
            "29999/29999 [==============================] - 4s 121us/step - loss: 0.7120 - categorical_accuracy: 0.8102\n",
            "Epoch 20/30\n",
            "29999/29999 [==============================] - 4s 123us/step - loss: 0.7120 - categorical_accuracy: 0.8172\n",
            "Epoch 21/30\n",
            "29999/29999 [==============================] - 4s 123us/step - loss: 0.7120 - categorical_accuracy: 0.8041\n",
            "Epoch 22/30\n",
            "29999/29999 [==============================] - 4s 125us/step - loss: 0.7120 - categorical_accuracy: 0.8077\n",
            "Epoch 23/30\n",
            "29999/29999 [==============================] - 4s 123us/step - loss: 0.7120 - categorical_accuracy: 0.8033\n",
            "Epoch 24/30\n",
            "29999/29999 [==============================] - 4s 120us/step - loss: 0.7119 - categorical_accuracy: 0.8141\n",
            "Epoch 25/30\n",
            "29999/29999 [==============================] - 3s 116us/step - loss: 0.7119 - categorical_accuracy: 0.8203\n",
            "Epoch 26/30\n",
            "29999/29999 [==============================] - 4s 123us/step - loss: 0.7119 - categorical_accuracy: 0.8198\n",
            "Epoch 27/30\n",
            "29999/29999 [==============================] - 4s 122us/step - loss: 0.7119 - categorical_accuracy: 0.8186\n",
            "Epoch 28/30\n",
            "29999/29999 [==============================] - 4s 124us/step - loss: 0.7118 - categorical_accuracy: 0.8227\n",
            "Epoch 29/30\n",
            "29999/29999 [==============================] - 4s 124us/step - loss: 0.7118 - categorical_accuracy: 0.8253\n",
            "Epoch 30/30\n",
            "29999/29999 [==============================] - 4s 121us/step - loss: 0.7118 - categorical_accuracy: 0.8221\n"
          ],
          "name": "stdout"
        },
        {
          "output_type": "execute_result",
          "data": {
            "text/plain": [
              "<keras.callbacks.callbacks.History at 0x7f01ae577470>"
            ]
          },
          "metadata": {
            "tags": []
          },
          "execution_count": 110
        }
      ]
    },
    {
      "cell_type": "code",
      "metadata": {
        "id": "4nI9_ruU0ACV",
        "colab_type": "code",
        "colab": {}
      },
      "source": [
        "model.save(model_name)"
      ],
      "execution_count": 0,
      "outputs": []
    },
    {
      "cell_type": "code",
      "metadata": {
        "id": "95iJ4yTwXqvl",
        "colab_type": "code",
        "colab": {}
      },
      "source": [
        "prepare_data('test.csv' , 1000)"
      ],
      "execution_count": 0,
      "outputs": []
    },
    {
      "cell_type": "code",
      "metadata": {
        "id": "UTj6vNDh0vFP",
        "colab_type": "code",
        "outputId": "973a5879-330e-4d46-e0e4-b7aecefd66b0",
        "colab": {
          "base_uri": "https://localhost:8080/",
          "height": 510
        }
      },
      "source": [
        "from numpy import loadtxt\n",
        "from keras.models import Sequential\n",
        "from keras.layers import Dense\n",
        "from keras.models import load_model\n",
        "model = load_model(model_name)\n",
        "model.summary()\n",
        "import pandas as pd\n",
        "\n",
        "df = pd.read_csv('test.csv')\n",
        "X = df.iloc[:, 0:15]  \n",
        "Y = df.iloc[:,15:19]\n",
        "print(X.head())\n",
        "print(Y.head())\n",
        "score = model.evaluate(X, Y, verbose=0)\n",
        "print(\"%s: %.2f%%\" % (model.metrics_names[1], score[1]*100))\n",
        "\n",
        "\n"
      ],
      "execution_count": 0,
      "outputs": [
        {
          "output_type": "stream",
          "text": [
            "Model: \"sequential_13\"\n",
            "_________________________________________________________________\n",
            "Layer (type)                 Output Shape              Param #   \n",
            "=================================================================\n",
            "dense_36 (Dense)             (None, 52)                832       \n",
            "_________________________________________________________________\n",
            "dense_37 (Dense)             (None, 26)                1378      \n",
            "_________________________________________________________________\n",
            "dense_38 (Dense)             (None, 4)                 108       \n",
            "=================================================================\n",
            "Total params: 2,318\n",
            "Trainable params: 2,318\n",
            "Non-trainable params: 0\n",
            "_________________________________________________________________\n",
            "   0  1  1.1  0.1  0.2  0.3  0.4  ...  0.7  0.6  0.8  0.7.1  0.2.1  0.1.1  0.5.1\n",
            "0  0  0    0    1    0    0    0  ...  0.3  0.4  0.4    0.2    0.1   -0.3    0.3\n",
            "1  1  1    1    1    0    1    1  ...  0.3  0.5  0.9    0.1   -0.2    0.0   -0.1\n",
            "2  0  0    0    0    1    0    0  ...  0.1  0.5  0.4   -0.2   -0.3   -0.6   -0.2\n",
            "3  0  0    0    0    1    0    1  ...  0.5  0.4  0.2    0.0   -0.1    0.3   -0.3\n",
            "4  0  0    0    0    0    0    1  ...  0.3  0.6  0.9   -0.3    0.4    0.3    0.5\n",
            "\n",
            "[5 rows x 15 columns]\n",
            "   0.36134453781512604  0.31932773109243695       0.0  0.31932773109243695.1\n",
            "0             0.000000             0.319328  0.319328               0.361345\n",
            "1             0.000000             1.000000  0.000000               0.000000\n",
            "2             0.319328             0.000000  0.319328               0.361345\n",
            "3             0.469136             0.000000  0.530864               0.000000\n",
            "4             0.346774             0.306452  0.346774               0.000000\n",
            "categorical_accuracy: 86.29%\n"
          ],
          "name": "stdout"
        }
      ]
    },
    {
      "cell_type": "code",
      "metadata": {
        "id": "701GOmoC43oS",
        "colab_type": "code",
        "colab": {}
      },
      "source": [
        "\n",
        "\n",
        "\n"
      ],
      "execution_count": 0,
      "outputs": []
    }
  ]
}